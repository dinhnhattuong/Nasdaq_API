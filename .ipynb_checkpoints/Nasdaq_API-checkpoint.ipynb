{
 "cells": [
  {
   "cell_type": "code",
   "execution_count": 12,
   "id": "90fcf356-525b-4d95-9c47-adf8a245d981",
   "metadata": {},
   "outputs": [
    {
     "name": "stdout",
     "output_type": "stream",
     "text": [
      "Highest opening price: 122.1\n",
      "Lowest opening price: 69.15\n",
      "Largest change in any one day: 14.099999999999994\n",
      "Largest change between any two days: 7.950000000000003\n",
      "Average daily trading volume: 126294.17446808511\n",
      "Median trading volume: 116991.0\n"
     ]
    }
   ],
   "source": [
    "import os\n",
    "from dotenv import load_dotenv\n",
    "import requests\n",
    "\n",
    "# Load environment variables from .env file\n",
    "load_dotenv()\n",
    "\n",
    "# Access the API key\n",
    "NASDAQ_API_KEY = os.getenv(\"NASDAQ_API_KEY\")\n",
    "\n",
    "# Define the API endpoint and parameters for the whole year 2017\n",
    "url = 'https://data.nasdaq.com/api/v3/datasets/FSE/AFX_X/data.json'\n",
    "params = {\n",
    "    'api_key': NASDAQ_API_KEY,\n",
    "    'start_date': '2020-01-01',\n",
    "    'end_date': '2020-12-31',\n",
    "}\n",
    "\n",
    "# Make a GET request to the API\n",
    "response = requests.get(url, params=params)\n",
    "\n",
    "# Check if the request was successful\n",
    "if response.status_code == 200:\n",
    "    # Parse JSON response into a Python dictionary\n",
    "    data = response.json()\n",
    "    # Extract relevant data\n",
    "    stock_data = data['dataset_data']['data']\n",
    "else:\n",
    "    print(\"Failed to retrieve data from the API.\")\n",
    "\n",
    "# Now let's proceed with the calculations\n",
    "# Task: Calculate highest and lowest opening prices\n",
    "opening_prices = [entry[1] for entry in stock_data if entry[1] is not None]\n",
    "highest_opening_price = max(opening_prices)\n",
    "lowest_opening_price = min(opening_prices)\n",
    "\n",
    "# Task: Calculate the largest change in any one day (based on High and Low price)\n",
    "daily_changes = [entry[2] - entry[3] for entry in stock_data if None not in (entry[2], entry[3])]\n",
    "largest_daily_change = max(daily_changes)\n",
    "\n",
    "# Task: Calculate the largest change between any two days (based on Closing Price)\n",
    "closing_prices = [entry[4] for entry in stock_data if entry[4] is not None]\n",
    "change_between_days = [abs(closing_prices[i] - closing_prices[i-1]) for i in range(1, len(closing_prices))]\n",
    "largest_change_between_days = max(change_between_days)\n",
    "\n",
    "# Task: Calculate the average daily trading volume during this year\n",
    "trading_volumes = [entry[6] for entry in stock_data if entry[6] is not None]\n",
    "average_daily_volume = sum(trading_volumes) / len(trading_volumes)\n",
    "\n",
    "# Task: Calculate the median trading volume during this year\n",
    "def calculate_median(values):\n",
    "    sorted_values = sorted(values)\n",
    "    n = len(sorted_values)\n",
    "    if n % 2 == 0:\n",
    "        return (sorted_values[n//2 - 1] + sorted_values[n//2]) / 2\n",
    "    else:\n",
    "        return sorted_values[n//2]\n",
    "\n",
    "median_daily_volume = calculate_median(trading_volumes)\n",
    "\n",
    "# Print the results\n",
    "print(f\"Highest opening price: {highest_opening_price}\")\n",
    "print(f\"Lowest opening price: {lowest_opening_price}\")\n",
    "print(f\"Largest change in any one day: {largest_daily_change}\")\n",
    "print(f\"Largest change between any two days: {largest_change_between_days}\")\n",
    "print(f\"Average daily trading volume: {average_daily_volume}\")\n",
    "print(f\"Median trading volume: {median_daily_volume}\")"
   ]
  },
  {
   "cell_type": "code",
   "execution_count": null,
   "id": "c90d087e-a55c-4fad-96da-4dabd13bf0ba",
   "metadata": {},
   "outputs": [],
   "source": []
  }
 ],
 "metadata": {
  "kernelspec": {
   "display_name": "Python 3 (ipykernel)",
   "language": "python",
   "name": "python3"
  },
  "language_info": {
   "codemirror_mode": {
    "name": "ipython",
    "version": 3
   },
   "file_extension": ".py",
   "mimetype": "text/x-python",
   "name": "python",
   "nbconvert_exporter": "python",
   "pygments_lexer": "ipython3",
   "version": "3.11.7"
  }
 },
 "nbformat": 4,
 "nbformat_minor": 5
}
